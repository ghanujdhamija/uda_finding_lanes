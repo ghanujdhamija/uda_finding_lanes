{
 "cells": [
  {
   "cell_type": "code",
   "execution_count": 641,
   "metadata": {
    "collapsed": false,
    "deletable": true,
    "editable": true
   },
   "outputs": [],
   "source": [
    "#importing some useful packages\n",
    "import matplotlib.pyplot as plt\n",
    "import matplotlib.image as mpimg\n",
    "import numpy as np\n",
    "import cv2\n",
    "%matplotlib inline"
   ]
  },
  {
   "cell_type": "code",
   "execution_count": 642,
   "metadata": {
    "collapsed": false,
    "deletable": true,
    "editable": true
   },
   "outputs": [],
   "source": [
    "import math\n",
    "\n",
    "def grayscale(img):\n",
    "    \"\"\"Applies the Grayscale transform\n",
    "    This will return an image with only one color channel\n",
    "    but NOTE: to see the returned image as grayscale\n",
    "    (assuming your grayscaled image is called 'gray')\n",
    "    you should call plt.imshow(gray, cmap='gray')\"\"\"\n",
    "    return cv2.cvtColor(img, cv2.COLOR_RGB2GRAY)\n",
    "    # Or use BGR2GRAY if you read an image with cv2.imread()\n",
    "    # return cv2.cvtColor(img, cv2.COLOR_BGR2GRAY)\n",
    "    \n",
    "def canny(img, low_threshold, high_threshold):\n",
    "    \"\"\"Applies the Canny transform\"\"\"\n",
    "    return cv2.Canny(img, low_threshold, high_threshold)\n",
    "\n",
    "def gaussian_blur(img, kernel_size):\n",
    "    \"\"\"Applies a Gaussian Noise kernel\"\"\"\n",
    "    return cv2.GaussianBlur(img, (kernel_size, kernel_size), 0)\n",
    "\n",
    "def region_of_interest(img, vertices):\n",
    "    \"\"\"\n",
    "    Applies an image mask.\n",
    "    \n",
    "    Only keeps the region of the image defined by the polygon\n",
    "    formed from `vertices`. The rest of the image is set to black.\n",
    "    \"\"\"\n",
    "    #defining a blank mask to start with\n",
    "    mask = np.zeros_like(img)   \n",
    "    \n",
    "    #defining a 3 channel or 1 channel color to fill the mask with depending on the input image\n",
    "    if len(img.shape) > 2:\n",
    "        channel_count = img.shape[2]  # i.e. 3 or 4 depending on your image\n",
    "        ignore_mask_color = (255,) * channel_count\n",
    "    else:\n",
    "        ignore_mask_color = 255\n",
    "        \n",
    "    #filling pixels inside the polygon defined by \"vertices\" with the fill color    \n",
    "    cv2.fillPoly(mask, vertices, ignore_mask_color)\n",
    "    \n",
    "    #returning the image only where mask pixels are nonzero\n",
    "    masked_image = cv2.bitwise_and(img, mask)\n",
    "    return masked_image\n",
    "\n",
    "def line_slope(x1, y1, x2, y2):\n",
    "    return ((y2 - y1) / (x2 - x1))\n",
    "\n",
    "def is_left ( x1, y1, x2, y2 ):\n",
    "    return line_slope( x1, y1, x2, y2 ) < 0\n",
    "\n",
    "def bad_slope ( x1, y1, x2, y2 ):\n",
    "    slope = line_slope(x1, y1, x2, y2)\n",
    "    if ( slope < 0 ):\n",
    "        return slope > -.5 or slope < -.8\n",
    "    else:\n",
    "        return slope < .5 or slope > .8\n",
    "        \n",
    "def append_coordinates ( x1, y1, x2, y2, coords ) :\n",
    "    coords['x1'].append(x1)\n",
    "    coords['y1'].append(y1)\n",
    "    coords['x2'].append(x2)\n",
    "    coords['y2'].append(y2)\n",
    "    \n",
    "def render_coordinates( img, coords, top, bottom, color, thickness ) :\n",
    "    try:\n",
    "        avg_x1 = int(np.mean(coords['x1']))\n",
    "        avg_y1 = int(np.mean(coords['y1']))\n",
    "        avg_x2 = int(np.mean(coords['x2']))\n",
    "        avg_y2 = int(np.mean(coords['y2']))\n",
    "\n",
    "        slope = line_slope(avg_x1, avg_y1, avg_x2, avg_y2)\n",
    "\n",
    "        if( slope != 0 ):\n",
    "            y1 = top\n",
    "            x1 = int(avg_x1 + ( y1 - avg_y1) / slope)\n",
    "            y2 = bottom\n",
    "            x2 = int(avg_x2 + ( y2 - avg_y2) / slope)\n",
    "            cv2.line(img, (x1, y1), (x2, y2), color, thickness)\n",
    "    except ValueError:\n",
    "        pass\n",
    "    \n",
    "def draw_lines(img, lines, color=[255, 0, 0], thickness=2):\n",
    "    left_coords = { 'x1' : [], 'y1' : [], 'x2' : [], 'y2' : [] }\n",
    "    right_coords = { 'x1' : [], 'y1' : [], 'x2' : [], 'y2' : [] }\n",
    "    for line in lines:\n",
    "        for x1, y1, x2, y2 in line:            \n",
    "            if bad_slope( x1, y1, x2, y2 ):\n",
    "                continue\n",
    "            if is_left( x1, y1, x2, y2 ):\n",
    "                append_coordinates( x1, y1, x2, y2, left_coords )\n",
    "            else:\n",
    "                append_coordinates( x1, y1, x2, y2, right_coords )               \n",
    "                \n",
    "    render_coordinates( img, left_coords, 320, 540, color, thickness )\n",
    "    render_coordinates( img, right_coords, 320, 540, color, thickness )\n",
    "\n",
    "def hough_lines(img, rho, theta, threshold, min_line_len, max_line_gap):\n",
    "    \"\"\"\n",
    "    `img` should be the output of a Canny transform.\n",
    "        \n",
    "    Returns an image with hough lines drawn.\n",
    "    \"\"\"\n",
    "    lines = cv2.HoughLinesP(img, rho, theta, threshold, np.array([]), minLineLength=min_line_len, maxLineGap=max_line_gap)\n",
    "    line_img = np.zeros((img.shape[0], img.shape[1], 3), dtype=np.uint8)\n",
    "    draw_lines(line_img, lines)\n",
    "    return line_img\n",
    "\n",
    "# Python 3 has support for cool math symbols.\n",
    "\n",
    "def weighted_img(img, initial_img, α=0.8, β=1., λ=0.):\n",
    "    \"\"\"\n",
    "    `img` is the output of the hough_lines(), An image with lines drawn on it.\n",
    "    Should be a blank image (all black) with lines drawn on it.\n",
    "    \n",
    "    `initial_img` should be the image before any processing.\n",
    "    \n",
    "    The result image is computed as follows:\n",
    "    \n",
    "    initial_img * α + img * β + λ\n",
    "    NOTE: initial_img and img must be the same shape!\n",
    "    \"\"\"\n",
    "    return cv2.addWeighted(initial_img, α, img, β, λ)"
   ]
  },
  {
   "cell_type": "code",
   "execution_count": 643,
   "metadata": {
    "collapsed": false,
    "deletable": true,
    "editable": true
   },
   "outputs": [],
   "source": [
    "import os \n",
    "\n",
    "#this method copied from here: http://flippidybits.com/project-1-lane-finding/\n",
    "def roi_poly( img ) :\n",
    "    height, width = img.shape[:2]    \n",
    "    ratio = 5/8\n",
    "    roi_left = np.array([[\n",
    "        (100, height),\n",
    "        ((1 - ratio) * width, ratio * height),\n",
    "        (.5 * width, ratio * height),\n",
    "        (.5 * width, height)\n",
    "    ]], dtype=np.int32)\n",
    "\n",
    "    roi_right = np.array([[\n",
    "        (.5 * width, height),\n",
    "        (.5 * width, ratio * height),\n",
    "        (ratio * width, ratio * height),\n",
    "        (width, height)\n",
    "    ]], dtype=np.int32)\n",
    "    \n",
    "    return ( roi_left, roi_right )\n",
    "\n",
    "\n",
    "# used by both images (here) and videos (next section).\n",
    "def process_image(image):\n",
    "\n",
    "    color_select = np.copy(image)\n",
    "    \n",
    "    rgb_threshold = [150, 150, 150]\n",
    "    thresholds = (color_select[:,:,0] < rgb_threshold[0]) \\\n",
    "            & (color_select[:,:,1] < rgb_threshold[1]) \\\n",
    "            & (color_select[:,:,2] < rgb_threshold[2])\n",
    "    color_select[thresholds] = [0,0,0]\n",
    "    \n",
    "    gray = grayscale( color_select )\n",
    "    \n",
    "    # Define a kernel size and apply Gaussian smoothing\n",
    "    kernel_size = 5\n",
    "    g_gray = gaussian_blur( gray, kernel_size )\n",
    "\n",
    "    canny_lt = 50\n",
    "    canny_ht = 150\n",
    "    edges = canny( g_gray, canny_lt, canny_ht )\n",
    "\n",
    "    vertices = roi_poly( edges ) #focus on relevant edges in the image\n",
    "    masked_edges = region_of_interest( edges, vertices )\n",
    "    \n",
    "    # Define the Hough transform parameters\n",
    "    # Make a blank the same size as our image to draw on\n",
    "    rho = 2\n",
    "    theta = np.pi/180\n",
    "    threshold = 20\n",
    "    min_line_length = 25\n",
    "    max_line_gap = 10\n",
    "    hlines = hough_lines( masked_edges, rho, theta, threshold, min_line_length, max_line_gap )\n",
    "\n",
    "    return weighted_img(hlines, image)"
   ]
  },
  {
   "cell_type": "code",
   "execution_count": 644,
   "metadata": {
    "collapsed": false,
    "deletable": true,
    "editable": true
   },
   "outputs": [],
   "source": [
    "# TODO: Build your pipeline that will draw lane lines on the test_images\n",
    "# then save them to the test_images directory.\n",
    "images = os.listdir(\"test_images/\")\n",
    "outdir = \"test_images_proc\"\n",
    "if not os.path.exists(outdir):\n",
    "    os.makedirs(outdir)\n",
    "    \n",
    "for file in images:    \n",
    "    # skip files starting with processed\n",
    "    image = mpimg.imread( 'test_images/' + file )       \n",
    "    pimage = process_image(image)\n",
    "\n",
    "    #plt.imshow(pimage)\n",
    "    mpimg.imsave( outdir + '/' + file, pimage )"
   ]
  },
  {
   "cell_type": "code",
   "execution_count": 645,
   "metadata": {
    "collapsed": true,
    "deletable": true,
    "editable": true
   },
   "outputs": [],
   "source": [
    "# Import everything needed to edit/save/watch video clips\n",
    "from moviepy.editor import VideoFileClip\n",
    "from IPython.display import HTML"
   ]
  },
  {
   "cell_type": "code",
   "execution_count": 646,
   "metadata": {
    "collapsed": false,
    "deletable": true,
    "editable": true
   },
   "outputs": [],
   "source": [
    "import imageio\n",
    "imageio.plugins.ffmpeg.download()\n",
    "\n",
    "video_outdir = \"test_videos_proc\"\n",
    "if not os.path.exists(video_outdir):\n",
    "    os.makedirs(video_outdir)"
   ]
  },
  {
   "cell_type": "markdown",
   "metadata": {
    "deletable": true,
    "editable": true
   },
   "source": [
    "Let's try the one with the solid white lane on the right first ..."
   ]
  },
  {
   "cell_type": "code",
   "execution_count": 647,
   "metadata": {
    "collapsed": false,
    "deletable": true,
    "editable": true
   },
   "outputs": [
    {
     "name": "stdout",
     "output_type": "stream",
     "text": [
      "[MoviePy] >>>> Building video test_videos_proc/solidWhiteRight.mp4\n",
      "[MoviePy] Writing video test_videos_proc/solidWhiteRight.mp4\n"
     ]
    },
    {
     "name": "stderr",
     "output_type": "stream",
     "text": [
      "\n",
      "  0%|          | 0/222 [00:00<?, ?it/s]\u001b[A\n",
      "  2%|▏         | 5/222 [00:00<00:04, 45.15it/s]\u001b[A\n",
      "  5%|▍         | 10/222 [00:00<00:04, 45.02it/s]\u001b[A\n",
      "  7%|▋         | 15/222 [00:00<00:04, 45.81it/s]\u001b[A\n",
      "  9%|▉         | 20/222 [00:00<00:04, 46.44it/s]\u001b[A\n",
      " 11%|█▏        | 25/222 [00:00<00:04, 47.27it/s]\u001b[A\n",
      " 14%|█▎        | 30/222 [00:00<00:04, 46.68it/s]\u001b[A\n",
      " 16%|█▌        | 35/222 [00:00<00:03, 47.19it/s]\u001b[A\n",
      " 18%|█▊        | 40/222 [00:00<00:03, 47.40it/s]\u001b[A\n",
      " 21%|██        | 46/222 [00:00<00:03, 48.16it/s]\u001b[A\n",
      " 23%|██▎       | 51/222 [00:01<00:04, 39.10it/s]\u001b[A\n",
      " 25%|██▌       | 56/222 [00:01<00:04, 38.75it/s]\u001b[A\n",
      " 27%|██▋       | 61/222 [00:01<00:04, 38.65it/s]\u001b[A\n",
      " 29%|██▉       | 65/222 [00:01<00:04, 38.75it/s]\u001b[A\n",
      " 32%|███▏      | 70/222 [00:01<00:03, 39.51it/s]\u001b[A\n",
      " 33%|███▎      | 74/222 [00:01<00:03, 38.14it/s]\u001b[A\n",
      " 35%|███▌      | 78/222 [00:01<00:03, 37.72it/s]\u001b[A\n",
      " 37%|███▋      | 82/222 [00:01<00:03, 37.49it/s]\u001b[A\n",
      " 39%|███▊      | 86/222 [00:02<00:03, 37.50it/s]\u001b[A\n",
      " 41%|████      | 90/222 [00:02<00:03, 37.29it/s]\u001b[A\n",
      " 43%|████▎     | 95/222 [00:02<00:03, 37.79it/s]\u001b[A\n",
      " 45%|████▌     | 100/222 [00:02<00:03, 39.13it/s]\u001b[A\n",
      " 47%|████▋     | 105/222 [00:02<00:02, 39.60it/s]\u001b[A\n",
      " 49%|████▉     | 109/222 [00:02<00:03, 34.93it/s]\u001b[A\n",
      " 51%|█████     | 113/222 [00:02<00:03, 33.79it/s]\u001b[A\n",
      " 53%|█████▎    | 117/222 [00:02<00:03, 34.34it/s]\u001b[A\n",
      " 55%|█████▍    | 121/222 [00:03<00:02, 35.52it/s]\u001b[A\n",
      " 56%|█████▋    | 125/222 [00:03<00:02, 36.20it/s]\u001b[A\n",
      " 58%|█████▊    | 129/222 [00:03<00:02, 35.42it/s]\u001b[A\n",
      " 60%|██████    | 134/222 [00:03<00:02, 36.22it/s]\u001b[A\n",
      " 63%|██████▎   | 139/222 [00:03<00:02, 38.19it/s]\u001b[A\n",
      " 64%|██████▍   | 143/222 [00:03<00:02, 38.23it/s]\u001b[A\n",
      " 66%|██████▌   | 147/222 [00:03<00:01, 38.58it/s]\u001b[A\n",
      " 68%|██████▊   | 151/222 [00:03<00:01, 37.94it/s]\u001b[A\n",
      " 70%|██████▉   | 155/222 [00:03<00:01, 38.10it/s]\u001b[A\n",
      " 72%|███████▏  | 160/222 [00:04<00:01, 37.91it/s]\u001b[A\n",
      " 74%|███████▍  | 164/222 [00:04<00:01, 37.71it/s]\u001b[A\n",
      " 76%|███████▌  | 168/222 [00:04<00:01, 37.22it/s]\u001b[A\n",
      " 78%|███████▊  | 173/222 [00:04<00:01, 38.35it/s]\u001b[A\n",
      " 80%|████████  | 178/222 [00:04<00:01, 39.13it/s]\u001b[A\n",
      " 82%|████████▏ | 183/222 [00:04<00:00, 39.88it/s]\u001b[A\n",
      " 85%|████████▍ | 188/222 [00:04<00:00, 39.60it/s]\u001b[A\n",
      " 87%|████████▋ | 193/222 [00:04<00:00, 40.17it/s]\u001b[A\n",
      " 89%|████████▉ | 198/222 [00:05<00:00, 41.12it/s]\u001b[A\n",
      " 91%|█████████▏| 203/222 [00:05<00:00, 42.38it/s]\u001b[A\n",
      " 94%|█████████▎| 208/222 [00:05<00:00, 43.07it/s]\u001b[A\n",
      " 96%|█████████▌| 213/222 [00:05<00:00, 44.50it/s]\u001b[A\n",
      " 98%|█████████▊| 218/222 [00:05<00:00, 45.65it/s]\u001b[A\n",
      "100%|█████████▉| 221/222 [00:05<00:00, 40.14it/s]\u001b[A"
     ]
    },
    {
     "name": "stdout",
     "output_type": "stream",
     "text": [
      "[MoviePy] Done.\n",
      "[MoviePy] >>>> Video ready: test_videos_proc/solidWhiteRight.mp4 \n",
      "\n",
      "CPU times: user 5.59 s, sys: 250 ms, total: 5.84 s\n",
      "Wall time: 6.09 s\n"
     ]
    }
   ],
   "source": [
    "white_output = video_outdir + '/solidWhiteRight.mp4'\n",
    "clip1 = VideoFileClip(\"test_videos/solidWhiteRight.mp4\")\n",
    "white_clip = clip1.fl_image(process_image) #NOTE: this function expects color images!!\n",
    "%time white_clip.write_videofile(white_output, audio=False)"
   ]
  },
  {
   "cell_type": "code",
   "execution_count": 648,
   "metadata": {
    "collapsed": false,
    "deletable": true,
    "editable": true
   },
   "outputs": [
    {
     "data": {
      "text/html": [
       "\n",
       "<video width=\"960\" height=\"540\" controls>\n",
       "  <source src=\"test_videos_proc/solidWhiteRight.mp4\">\n",
       "</video>\n"
      ],
      "text/plain": [
       "<IPython.core.display.HTML object>"
      ]
     },
     "execution_count": 648,
     "metadata": {},
     "output_type": "execute_result"
    }
   ],
   "source": [
    "HTML(\"\"\"\n",
    "<video width=\"960\" height=\"540\" controls>\n",
    "  <source src=\"{0}\">\n",
    "</video>\n",
    "\"\"\".format(white_output))"
   ]
  },
  {
   "cell_type": "code",
   "execution_count": 649,
   "metadata": {
    "collapsed": false,
    "deletable": true,
    "editable": true
   },
   "outputs": [
    {
     "name": "stdout",
     "output_type": "stream",
     "text": [
      "[MoviePy] >>>> Building video test_videos_proc/solidYellowLeft.mp4\n",
      "[MoviePy] Writing video test_videos_proc/solidYellowLeft.mp4\n"
     ]
    },
    {
     "name": "stderr",
     "output_type": "stream",
     "text": [
      "\n",
      "  0%|          | 0/682 [00:00<?, ?it/s]\u001b[A\n",
      "  1%|          | 5/682 [00:00<00:16, 41.46it/s]\u001b[A\n",
      "  1%|▏         | 10/682 [00:00<00:16, 41.39it/s]\u001b[A\n",
      "  2%|▏         | 15/682 [00:00<00:16, 41.35it/s]\u001b[A\n",
      "  3%|▎         | 20/682 [00:00<00:15, 41.48it/s]\u001b[A\n",
      "  4%|▎         | 25/682 [00:00<00:15, 41.98it/s]\u001b[A\n",
      "  4%|▍         | 30/682 [00:00<00:15, 42.06it/s]\u001b[A\n",
      "  5%|▌         | 35/682 [00:00<00:15, 42.53it/s]\u001b[A\n",
      "  6%|▌         | 40/682 [00:00<00:14, 42.93it/s]\u001b[A\n",
      "  7%|▋         | 45/682 [00:01<00:15, 41.96it/s]\u001b[A\n",
      "  7%|▋         | 50/682 [00:01<00:16, 37.54it/s]\u001b[A\n",
      "  8%|▊         | 55/682 [00:01<00:16, 38.58it/s]\u001b[A\n",
      "  9%|▊         | 59/682 [00:01<00:16, 37.90it/s]\u001b[A\n",
      "  9%|▉         | 63/682 [00:01<00:17, 35.86it/s]\u001b[A\n",
      " 10%|▉         | 67/682 [00:01<00:17, 34.96it/s]\u001b[A\n",
      " 10%|█         | 71/682 [00:01<00:17, 35.63it/s]\u001b[A\n",
      " 11%|█         | 75/682 [00:01<00:17, 35.18it/s]\u001b[A\n",
      " 12%|█▏        | 79/682 [00:02<00:17, 34.86it/s]\u001b[A\n",
      " 12%|█▏        | 84/682 [00:02<00:16, 36.40it/s]\u001b[A\n",
      " 13%|█▎        | 88/682 [00:02<00:16, 36.76it/s]\u001b[A\n",
      " 14%|█▎        | 93/682 [00:02<00:15, 38.25it/s]\u001b[A\n",
      " 14%|█▍        | 97/682 [00:02<00:15, 37.29it/s]\u001b[A\n",
      " 15%|█▍        | 102/682 [00:02<00:15, 38.18it/s]\u001b[A\n",
      " 16%|█▌        | 106/682 [00:02<00:15, 37.29it/s]\u001b[A\n",
      " 16%|█▌        | 110/682 [00:02<00:15, 37.27it/s]\u001b[A\n",
      " 17%|█▋        | 114/682 [00:02<00:15, 37.57it/s]\u001b[A\n",
      " 17%|█▋        | 118/682 [00:03<00:15, 36.10it/s]\u001b[A\n",
      " 18%|█▊        | 122/682 [00:03<00:15, 36.15it/s]\u001b[A\n",
      " 19%|█▊        | 127/682 [00:03<00:14, 37.04it/s]\u001b[A\n",
      " 19%|█▉        | 131/682 [00:03<00:14, 37.84it/s]\u001b[A\n",
      " 20%|█▉        | 135/682 [00:03<00:14, 37.47it/s]\u001b[A\n",
      " 20%|██        | 139/682 [00:03<00:14, 36.98it/s]\u001b[A\n",
      " 21%|██        | 143/682 [00:03<00:14, 36.95it/s]\u001b[A\n",
      " 22%|██▏       | 148/682 [00:03<00:14, 37.89it/s]\u001b[A\n",
      " 22%|██▏       | 153/682 [00:03<00:13, 38.98it/s]\u001b[A\n",
      " 23%|██▎       | 158/682 [00:04<00:13, 38.90it/s]\u001b[A\n",
      " 24%|██▍       | 163/682 [00:04<00:12, 40.25it/s]\u001b[A\n",
      " 25%|██▍       | 168/682 [00:04<00:13, 38.02it/s]\u001b[A\n",
      " 25%|██▌       | 173/682 [00:04<00:13, 39.12it/s]\u001b[A\n",
      " 26%|██▌       | 177/682 [00:04<00:13, 38.23it/s]\u001b[A\n",
      " 27%|██▋       | 181/682 [00:04<00:13, 38.13it/s]\u001b[A\n",
      " 27%|██▋       | 185/682 [00:04<00:12, 38.40it/s]\u001b[A\n",
      " 28%|██▊       | 189/682 [00:04<00:13, 37.81it/s]\u001b[A\n",
      " 28%|██▊       | 193/682 [00:05<00:13, 36.54it/s]\u001b[A\n",
      " 29%|██▉       | 197/682 [00:05<00:13, 37.25it/s]\u001b[A\n",
      " 29%|██▉       | 201/682 [00:05<00:12, 37.25it/s]\u001b[A\n",
      " 30%|███       | 205/682 [00:05<00:13, 36.18it/s]\u001b[A\n",
      " 31%|███       | 210/682 [00:05<00:12, 37.92it/s]\u001b[A\n",
      " 32%|███▏      | 215/682 [00:05<00:11, 38.93it/s]\u001b[A\n",
      " 32%|███▏      | 220/682 [00:05<00:11, 39.92it/s]\u001b[A\n",
      " 33%|███▎      | 225/682 [00:05<00:11, 38.86it/s]\u001b[A\n",
      " 34%|███▎      | 229/682 [00:05<00:12, 37.34it/s]\u001b[A\n",
      " 34%|███▍      | 234/682 [00:06<00:11, 38.98it/s]\u001b[A\n",
      " 35%|███▍      | 238/682 [00:06<00:11, 38.56it/s]\u001b[A\n",
      " 35%|███▌      | 242/682 [00:06<00:11, 36.70it/s]\u001b[A\n",
      " 36%|███▌      | 246/682 [00:06<00:11, 36.58it/s]\u001b[A\n",
      " 37%|███▋      | 250/682 [00:06<00:11, 36.16it/s]\u001b[A\n",
      " 37%|███▋      | 254/682 [00:06<00:11, 36.24it/s]\u001b[A\n",
      " 38%|███▊      | 258/682 [00:06<00:11, 37.19it/s]\u001b[A\n",
      " 38%|███▊      | 262/682 [00:06<00:11, 37.53it/s]\u001b[A\n",
      " 39%|███▉      | 266/682 [00:06<00:10, 37.87it/s]\u001b[A\n",
      " 40%|███▉      | 270/682 [00:07<00:10, 37.62it/s]\u001b[A\n",
      " 40%|████      | 275/682 [00:07<00:10, 38.02it/s]\u001b[A\n",
      " 41%|████      | 279/682 [00:07<00:11, 35.48it/s]\u001b[A\n",
      " 41%|████▏     | 283/682 [00:07<00:11, 35.35it/s]\u001b[A\n",
      " 42%|████▏     | 287/682 [00:07<00:11, 35.51it/s]\u001b[A\n",
      " 43%|████▎     | 291/682 [00:07<00:10, 36.42it/s]\u001b[A\n",
      " 43%|████▎     | 295/682 [00:07<00:11, 34.08it/s]\u001b[A\n",
      " 44%|████▍     | 299/682 [00:07<00:10, 34.93it/s]\u001b[A\n",
      " 44%|████▍     | 303/682 [00:08<00:10, 34.47it/s]\u001b[A\n",
      " 45%|████▌     | 307/682 [00:08<00:10, 34.26it/s]\u001b[A\n",
      " 46%|████▌     | 311/682 [00:08<00:11, 33.42it/s]\u001b[A\n",
      " 46%|████▌     | 315/682 [00:08<00:11, 32.45it/s]\u001b[A\n",
      " 47%|████▋     | 319/682 [00:08<00:11, 32.35it/s]\u001b[A\n",
      " 47%|████▋     | 323/682 [00:08<00:11, 31.70it/s]\u001b[A\n",
      " 48%|████▊     | 327/682 [00:08<00:10, 32.36it/s]\u001b[A\n",
      " 49%|████▊     | 331/682 [00:08<00:10, 33.26it/s]\u001b[A\n",
      " 49%|████▉     | 335/682 [00:08<00:09, 34.84it/s]\u001b[A\n",
      " 50%|████▉     | 339/682 [00:09<00:09, 35.46it/s]\u001b[A\n",
      " 50%|█████     | 343/682 [00:09<00:09, 35.93it/s]\u001b[A\n",
      " 51%|█████     | 347/682 [00:09<00:09, 36.41it/s]\u001b[A\n",
      " 51%|█████▏    | 351/682 [00:09<00:09, 34.06it/s]\u001b[A\n",
      " 52%|█████▏    | 355/682 [00:09<00:09, 35.50it/s]\u001b[A\n",
      " 53%|█████▎    | 360/682 [00:09<00:08, 37.54it/s]\u001b[A\n",
      " 53%|█████▎    | 364/682 [00:09<00:08, 36.06it/s]\u001b[A\n",
      " 54%|█████▍    | 368/682 [00:09<00:08, 35.00it/s]\u001b[A\n",
      " 55%|█████▍    | 372/682 [00:10<00:08, 34.70it/s]\u001b[A\n",
      " 55%|█████▌    | 376/682 [00:10<00:08, 35.35it/s]\u001b[A\n",
      " 56%|█████▌    | 380/682 [00:10<00:08, 35.65it/s]\u001b[A\n",
      " 56%|█████▋    | 384/682 [00:10<00:08, 35.73it/s]\u001b[A\n",
      " 57%|█████▋    | 388/682 [00:10<00:08, 36.45it/s]\u001b[A\n",
      " 57%|█████▋    | 392/682 [00:10<00:07, 37.13it/s]\u001b[A\n",
      " 58%|█████▊    | 396/682 [00:10<00:08, 34.68it/s]\u001b[A\n",
      " 59%|█████▊    | 400/682 [00:10<00:08, 34.61it/s]\u001b[A\n",
      " 59%|█████▉    | 404/682 [00:10<00:08, 34.75it/s]\u001b[A\n",
      " 60%|█████▉    | 408/682 [00:11<00:07, 34.41it/s]\u001b[A\n",
      " 60%|██████    | 412/682 [00:11<00:07, 35.41it/s]\u001b[A\n",
      " 61%|██████    | 416/682 [00:11<00:07, 36.14it/s]\u001b[A\n",
      " 62%|██████▏   | 420/682 [00:11<00:07, 36.50it/s]\u001b[A\n",
      " 62%|██████▏   | 424/682 [00:11<00:06, 37.45it/s]\u001b[A\n",
      " 63%|██████▎   | 428/682 [00:11<00:06, 38.07it/s]\u001b[A\n",
      " 63%|██████▎   | 433/682 [00:11<00:06, 39.77it/s]\u001b[A\n",
      " 64%|██████▍   | 438/682 [00:11<00:06, 38.81it/s]\u001b[A\n",
      " 65%|██████▍   | 443/682 [00:11<00:06, 39.62it/s]\u001b[A\n",
      " 66%|██████▌   | 447/682 [00:12<00:06, 38.95it/s]\u001b[A\n",
      " 66%|██████▋   | 452/682 [00:12<00:05, 39.48it/s]\u001b[A\n",
      " 67%|██████▋   | 456/682 [00:12<00:06, 36.97it/s]\u001b[A\n",
      " 67%|██████▋   | 460/682 [00:12<00:05, 37.71it/s]\u001b[A\n",
      " 68%|██████▊   | 465/682 [00:12<00:05, 39.12it/s]\u001b[A\n",
      " 69%|██████▉   | 469/682 [00:12<00:05, 39.32it/s]\u001b[A\n",
      " 70%|██████▉   | 474/682 [00:12<00:05, 39.68it/s]\u001b[A\n",
      " 70%|███████   | 479/682 [00:12<00:05, 40.05it/s]\u001b[A\n",
      " 71%|███████   | 484/682 [00:12<00:05, 38.71it/s]\u001b[A\n",
      " 72%|███████▏  | 489/682 [00:13<00:04, 38.83it/s]\u001b[A\n",
      " 72%|███████▏  | 494/682 [00:13<00:04, 39.49it/s]\u001b[A\n",
      " 73%|███████▎  | 498/682 [00:13<00:04, 39.56it/s]\u001b[A\n",
      " 74%|███████▍  | 503/682 [00:13<00:04, 40.44it/s]\u001b[A\n",
      " 74%|███████▍  | 508/682 [00:13<00:04, 41.60it/s]\u001b[A\n",
      " 75%|███████▌  | 513/682 [00:13<00:03, 42.40it/s]\u001b[A\n",
      " 76%|███████▌  | 518/682 [00:13<00:03, 42.56it/s]\u001b[A\n",
      " 77%|███████▋  | 523/682 [00:13<00:03, 41.79it/s]\u001b[A\n",
      " 77%|███████▋  | 528/682 [00:14<00:03, 39.36it/s]\u001b[A\n",
      " 78%|███████▊  | 532/682 [00:14<00:03, 39.34it/s]\u001b[A\n",
      " 79%|███████▊  | 536/682 [00:14<00:03, 38.79it/s]\u001b[A\n",
      " 79%|███████▉  | 540/682 [00:14<00:03, 37.92it/s]\u001b[A\n",
      " 80%|███████▉  | 544/682 [00:14<00:03, 37.95it/s]\u001b[A\n",
      " 80%|████████  | 549/682 [00:14<00:03, 39.43it/s]\u001b[A\n",
      " 81%|████████  | 553/682 [00:14<00:03, 39.47it/s]\u001b[A\n",
      " 82%|████████▏ | 558/682 [00:14<00:03, 39.46it/s]\u001b[A\n",
      " 83%|████████▎ | 563/682 [00:14<00:02, 40.30it/s]\u001b[A\n",
      " 83%|████████▎ | 568/682 [00:15<00:02, 40.91it/s]\u001b[A\n",
      " 84%|████████▍ | 573/682 [00:15<00:02, 40.03it/s]\u001b[A\n",
      " 85%|████████▍ | 578/682 [00:15<00:02, 38.09it/s]\u001b[A\n",
      " 85%|████████▌ | 582/682 [00:15<00:02, 37.25it/s]\u001b[A\n",
      " 86%|████████▌ | 586/682 [00:15<00:02, 35.93it/s]\u001b[A\n",
      " 87%|████████▋ | 590/682 [00:15<00:02, 33.81it/s]\u001b[A\n",
      " 87%|████████▋ | 595/682 [00:15<00:02, 36.17it/s]\u001b[A\n",
      " 88%|████████▊ | 599/682 [00:15<00:02, 34.99it/s]\u001b[A\n",
      " 88%|████████▊ | 603/682 [00:16<00:02, 35.32it/s]\u001b[A\n",
      " 89%|████████▉ | 607/682 [00:16<00:02, 34.92it/s]\u001b[A\n",
      " 90%|████████▉ | 611/682 [00:16<00:02, 35.02it/s]\u001b[A\n",
      " 90%|█████████ | 616/682 [00:16<00:01, 36.95it/s]\u001b[A\n",
      " 91%|█████████ | 620/682 [00:16<00:01, 37.38it/s]\u001b[A\n",
      " 91%|█████████▏| 624/682 [00:16<00:01, 36.10it/s]\u001b[A\n",
      " 92%|█████████▏| 628/682 [00:16<00:01, 36.49it/s]\u001b[A\n",
      " 93%|█████████▎| 633/682 [00:16<00:01, 38.69it/s]\u001b[A\n",
      " 94%|█████████▎| 638/682 [00:16<00:01, 39.36it/s]\u001b[A\n",
      " 94%|█████████▍| 643/682 [00:17<00:00, 40.09it/s]\u001b[A\n",
      " 95%|█████████▌| 648/682 [00:17<00:00, 38.67it/s]\u001b[A\n",
      " 96%|█████████▌| 652/682 [00:17<00:00, 38.03it/s]\u001b[A\n",
      " 96%|█████████▋| 657/682 [00:17<00:00, 39.33it/s]\u001b[A\n",
      " 97%|█████████▋| 662/682 [00:17<00:00, 39.44it/s]\u001b[A\n",
      " 98%|█████████▊| 666/682 [00:17<00:00, 38.94it/s]\u001b[A\n",
      " 98%|█████████▊| 671/682 [00:17<00:00, 39.75it/s]\u001b[A\n",
      " 99%|█████████▉| 675/682 [00:17<00:00, 39.76it/s]\u001b[A\n",
      "100%|█████████▉| 680/682 [00:18<00:00, 40.51it/s]\u001b[A\n",
      "100%|█████████▉| 681/682 [00:18<00:00, 37.68it/s]\u001b[A"
     ]
    },
    {
     "name": "stdout",
     "output_type": "stream",
     "text": [
      "[MoviePy] Done.\n",
      "[MoviePy] >>>> Video ready: test_videos_proc/solidYellowLeft.mp4 \n",
      "\n",
      "CPU times: user 17.8 s, sys: 730 ms, total: 18.5 s\n",
      "Wall time: 18.7 s\n"
     ]
    }
   ],
   "source": [
    "yellow_output = video_outdir + '/solidYellowLeft.mp4'\n",
    "clip2 = VideoFileClip('test_videos/solidYellowLeft.mp4')\n",
    "yellow_clip = clip2.fl_image(process_image)\n",
    "%time yellow_clip.write_videofile(yellow_output, audio=False)"
   ]
  },
  {
   "cell_type": "code",
   "execution_count": 650,
   "metadata": {
    "collapsed": false,
    "deletable": true,
    "editable": true
   },
   "outputs": [
    {
     "data": {
      "text/html": [
       "\n",
       "<video width=\"960\" height=\"540\" controls>\n",
       "  <source src=\"test_videos_proc/solidYellowLeft.mp4\">\n",
       "</video>\n"
      ],
      "text/plain": [
       "<IPython.core.display.HTML object>"
      ]
     },
     "execution_count": 650,
     "metadata": {},
     "output_type": "execute_result"
    }
   ],
   "source": [
    "HTML(\"\"\"\n",
    "<video width=\"960\" height=\"540\" controls>\n",
    "  <source src=\"{0}\">\n",
    "</video>\n",
    "\"\"\".format(yellow_output))"
   ]
  },
  {
   "cell_type": "markdown",
   "metadata": {
    "deletable": true,
    "editable": true
   },
   "source": [
    "# Reflections\n",
    "\n",
    "I mostly followed the steps as in tutorial to zero-out the undesired lines and retain only lane segments. Tried tweaking filter params to filter out fragments that don't belong to lane but rather adjoining artifcats ( vehicles etc ). Later realized its easier to exclude them when extrapolating points to render a complete line across the lane fragments.\n",
    "\n",
    "Main effort was to average endpoints of relavant lines on left and right and render the lines. Took me a while to figure out way to filter lines with bad slopes. Also went through few blogs to learn way to select the most relevant cross sections of the image.\n",
    "\n",
    "Pipeline will obviously not work well for realtime conditions where there are steeper curves and more noise due to light/shadow/trees etc. Look forward to learn what other techniques are used get around such noise."
   ]
  },
  {
   "cell_type": "markdown",
   "metadata": {
    "collapsed": true,
    "deletable": true,
    "editable": true
   },
   "source": [
    "## Optional Challenge\n",
    "\n",
    "Try your lane finding pipeline on the video below.  Does it still work?  Can you figure out a way to make it more robust?  If you're up for the challenge, modify your pipeline so it works with this video and submit it along with the rest of your project!"
   ]
  },
  {
   "cell_type": "code",
   "execution_count": 651,
   "metadata": {
    "collapsed": false,
    "deletable": true,
    "editable": true
   },
   "outputs": [
    {
     "name": "stdout",
     "output_type": "stream",
     "text": [
      "[MoviePy] >>>> Building video test_videos_proc/challenge.mp4\n",
      "[MoviePy] Writing video test_videos_proc/challenge.mp4\n"
     ]
    },
    {
     "name": "stderr",
     "output_type": "stream",
     "text": [
      "\n",
      "  0%|          | 0/251 [00:00<?, ?it/s]\u001b[A\n",
      "  1%|          | 3/251 [00:00<00:09, 25.51it/s]\u001b[A\n",
      "  2%|▏         | 6/251 [00:00<00:09, 25.73it/s]\u001b[A\n",
      "  4%|▎         | 9/251 [00:00<00:09, 26.48it/s]\u001b[A\n",
      "  5%|▍         | 12/251 [00:00<00:09, 26.38it/s]\u001b[A\n",
      "  6%|▌         | 15/251 [00:00<00:08, 26.99it/s]\u001b[A\n",
      "  7%|▋         | 18/251 [00:00<00:08, 27.37it/s]\u001b[A\n",
      "  8%|▊         | 21/251 [00:00<00:08, 27.20it/s]\u001b[A\n",
      " 10%|▉         | 24/251 [00:00<00:08, 27.40it/s]\u001b[A\n",
      " 11%|█         | 27/251 [00:00<00:08, 27.10it/s]\u001b[A\n",
      " 12%|█▏        | 30/251 [00:01<00:08, 26.88it/s]\u001b[A\n",
      " 13%|█▎        | 33/251 [00:01<00:08, 26.47it/s]\u001b[A\n",
      " 14%|█▍        | 36/251 [00:01<00:08, 26.54it/s]\u001b[A\n",
      " 16%|█▌        | 39/251 [00:01<00:07, 26.56it/s]\u001b[A\n",
      " 17%|█▋        | 42/251 [00:01<00:07, 26.97it/s]\u001b[A\n",
      " 18%|█▊        | 45/251 [00:01<00:07, 27.00it/s]\u001b[A\n",
      " 19%|█▉        | 48/251 [00:01<00:10, 19.32it/s]\u001b[A\n",
      " 20%|██        | 51/251 [00:02<00:09, 21.01it/s]\u001b[A\n",
      " 22%|██▏       | 54/251 [00:02<00:08, 22.01it/s]\u001b[A\n",
      " 23%|██▎       | 57/251 [00:02<00:08, 22.93it/s]\u001b[A\n",
      " 24%|██▍       | 60/251 [00:02<00:08, 22.62it/s]\u001b[A\n",
      " 25%|██▌       | 63/251 [00:02<00:08, 22.69it/s]\u001b[A\n",
      " 26%|██▋       | 66/251 [00:02<00:08, 21.54it/s]\u001b[A\n",
      " 27%|██▋       | 69/251 [00:02<00:08, 21.79it/s]\u001b[A\n",
      " 29%|██▊       | 72/251 [00:02<00:07, 22.41it/s]\u001b[A\n",
      " 30%|██▉       | 75/251 [00:03<00:07, 22.58it/s]\u001b[A\n",
      " 31%|███       | 78/251 [00:03<00:07, 22.77it/s]\u001b[A\n",
      " 32%|███▏      | 81/251 [00:03<00:07, 21.38it/s]\u001b[A\n",
      " 33%|███▎      | 84/251 [00:03<00:07, 20.98it/s]\u001b[A\n",
      " 35%|███▍      | 87/251 [00:03<00:07, 20.59it/s]\u001b[A\n",
      " 36%|███▌      | 90/251 [00:03<00:07, 20.79it/s]\u001b[A\n",
      " 37%|███▋      | 93/251 [00:03<00:07, 21.02it/s]\u001b[A\n",
      " 38%|███▊      | 96/251 [00:04<00:07, 21.39it/s]\u001b[A\n",
      " 39%|███▉      | 99/251 [00:04<00:07, 21.71it/s]\u001b[A\n",
      " 41%|████      | 102/251 [00:04<00:06, 22.36it/s]\u001b[A\n",
      " 42%|████▏     | 105/251 [00:04<00:06, 21.08it/s]\u001b[A\n",
      " 43%|████▎     | 108/251 [00:04<00:06, 20.92it/s]\u001b[A\n",
      " 44%|████▍     | 111/251 [00:04<00:06, 21.17it/s]\u001b[A\n",
      " 45%|████▌     | 114/251 [00:04<00:06, 21.21it/s]\u001b[A\n",
      " 47%|████▋     | 117/251 [00:05<00:06, 21.25it/s]\u001b[A\n",
      " 48%|████▊     | 120/251 [00:05<00:06, 21.68it/s]\u001b[A\n",
      " 49%|████▉     | 123/251 [00:05<00:06, 20.08it/s]\u001b[A\n",
      " 50%|█████     | 126/251 [00:05<00:06, 19.73it/s]\u001b[A\n",
      " 51%|█████     | 128/251 [00:05<00:06, 19.06it/s]\u001b[A\n",
      " 52%|█████▏    | 130/251 [00:05<00:06, 18.67it/s]\u001b[A\n",
      " 53%|█████▎    | 132/251 [00:05<00:06, 19.01it/s]\u001b[A\n",
      " 54%|█████▍    | 135/251 [00:06<00:06, 19.16it/s]\u001b[A\n",
      " 55%|█████▍    | 137/251 [00:06<00:06, 18.89it/s]\u001b[A\n",
      " 55%|█████▌    | 139/251 [00:06<00:05, 18.87it/s]\u001b[A\n",
      " 56%|█████▌    | 141/251 [00:06<00:06, 17.66it/s]\u001b[A\n",
      " 57%|█████▋    | 143/251 [00:06<00:06, 16.55it/s]\u001b[A\n",
      " 58%|█████▊    | 145/251 [00:06<00:06, 17.04it/s]\u001b[A\n",
      " 59%|█████▊    | 147/251 [00:06<00:05, 17.48it/s]\u001b[A\n",
      " 59%|█████▉    | 149/251 [00:06<00:05, 17.41it/s]\u001b[A\n",
      " 60%|██████    | 151/251 [00:06<00:05, 17.75it/s]\u001b[A\n",
      " 61%|██████    | 153/251 [00:07<00:05, 17.85it/s]\u001b[A\n",
      " 62%|██████▏   | 155/251 [00:07<00:05, 17.45it/s]\u001b[A\n",
      " 63%|██████▎   | 157/251 [00:07<00:05, 17.55it/s]\u001b[A\n",
      " 64%|██████▎   | 160/251 [00:07<00:05, 17.87it/s]\u001b[A\n",
      " 65%|██████▍   | 162/251 [00:07<00:05, 17.33it/s]\u001b[A\n",
      " 65%|██████▌   | 164/251 [00:07<00:04, 17.72it/s]\u001b[A\n",
      " 67%|██████▋   | 167/251 [00:07<00:04, 18.62it/s]\u001b[A\n",
      " 67%|██████▋   | 169/251 [00:07<00:04, 17.29it/s]\u001b[A\n",
      " 68%|██████▊   | 171/251 [00:08<00:04, 17.88it/s]\u001b[A\n",
      " 69%|██████▉   | 173/251 [00:08<00:04, 17.52it/s]\u001b[A\n",
      " 70%|██████▉   | 175/251 [00:08<00:04, 18.12it/s]\u001b[A\n",
      " 71%|███████   | 177/251 [00:08<00:04, 18.50it/s]\u001b[A\n",
      " 71%|███████▏  | 179/251 [00:08<00:04, 16.41it/s]\u001b[A\n",
      " 73%|███████▎  | 182/251 [00:08<00:04, 16.40it/s]\u001b[A\n",
      " 73%|███████▎  | 184/251 [00:08<00:04, 16.11it/s]\u001b[A\n",
      " 75%|███████▍  | 187/251 [00:09<00:03, 17.10it/s]\u001b[A\n",
      " 75%|███████▌  | 189/251 [00:09<00:03, 17.25it/s]\u001b[A\n",
      " 76%|███████▌  | 191/251 [00:09<00:03, 15.51it/s]\u001b[A\n",
      " 77%|███████▋  | 193/251 [00:09<00:03, 15.89it/s]\u001b[A\n",
      " 78%|███████▊  | 195/251 [00:09<00:03, 16.57it/s]\u001b[A\n",
      " 78%|███████▊  | 197/251 [00:09<00:03, 17.01it/s]\u001b[A\n",
      " 79%|███████▉  | 199/251 [00:09<00:03, 15.88it/s]\u001b[A\n",
      " 80%|████████  | 201/251 [00:09<00:03, 16.45it/s]\u001b[A\n",
      " 81%|████████  | 203/251 [00:10<00:02, 16.34it/s]\u001b[A\n",
      " 82%|████████▏ | 205/251 [00:10<00:02, 16.68it/s]\u001b[A\n",
      " 82%|████████▏ | 207/251 [00:10<00:02, 17.48it/s]\u001b[A\n",
      " 84%|████████▎ | 210/251 [00:10<00:02, 18.50it/s]\u001b[A\n",
      " 84%|████████▍ | 212/251 [00:10<00:02, 17.86it/s]\u001b[A\n",
      " 86%|████████▌ | 215/251 [00:10<00:01, 18.74it/s]\u001b[A\n",
      " 86%|████████▋ | 217/251 [00:10<00:01, 18.99it/s]\u001b[A\n",
      " 88%|████████▊ | 220/251 [00:10<00:01, 19.52it/s]\u001b[A\n",
      " 89%|████████▉ | 223/251 [00:10<00:01, 20.46it/s]\u001b[A\n",
      " 90%|█████████ | 226/251 [00:11<00:01, 20.54it/s]\u001b[A\n",
      " 91%|█████████ | 229/251 [00:11<00:01, 20.43it/s]\u001b[A\n",
      " 92%|█████████▏| 232/251 [00:11<00:00, 20.41it/s]\u001b[A\n",
      " 94%|█████████▎| 235/251 [00:11<00:00, 19.71it/s]\u001b[A\n",
      " 94%|█████████▍| 237/251 [00:11<00:00, 18.09it/s]\u001b[A\n",
      " 95%|█████████▌| 239/251 [00:12<00:01, 10.81it/s]\u001b[A\n",
      " 96%|█████████▋| 242/251 [00:12<00:00, 12.94it/s]\u001b[A\n",
      " 98%|█████████▊| 245/251 [00:12<00:00, 14.65it/s]\u001b[A\n",
      " 99%|█████████▉| 248/251 [00:12<00:00, 16.58it/s]\u001b[A\n",
      "100%|██████████| 251/251 [00:12<00:00, 18.28it/s]\u001b[A\n",
      "\u001b[A"
     ]
    },
    {
     "name": "stdout",
     "output_type": "stream",
     "text": [
      "[MoviePy] Done.\n",
      "[MoviePy] >>>> Video ready: test_videos_proc/challenge.mp4 \n",
      "\n",
      "CPU times: user 10.9 s, sys: 460 ms, total: 11.3 s\n",
      "Wall time: 13.7 s\n"
     ]
    }
   ],
   "source": [
    "challenge_output = video_outdir + '/challenge.mp4'\n",
    "clip2 = VideoFileClip('test_videos/challenge.mp4')\n",
    "challenge_clip = clip2.fl_image(process_image)\n",
    "%time challenge_clip.write_videofile(challenge_output, audio=False)"
   ]
  },
  {
   "cell_type": "code",
   "execution_count": 652,
   "metadata": {
    "collapsed": false,
    "deletable": true,
    "editable": true
   },
   "outputs": [
    {
     "data": {
      "text/html": [
       "\n",
       "<video width=\"960\" height=\"540\" controls>\n",
       "  <source src=\"test_videos_proc/challenge.mp4\">\n",
       "</video>\n"
      ],
      "text/plain": [
       "<IPython.core.display.HTML object>"
      ]
     },
     "execution_count": 652,
     "metadata": {},
     "output_type": "execute_result"
    }
   ],
   "source": [
    "HTML(\"\"\"\n",
    "<video width=\"960\" height=\"540\" controls>\n",
    "  <source src=\"{0}\">\n",
    "</video>\n",
    "\"\"\".format(challenge_output))"
   ]
  }
 ],
 "metadata": {
  "anaconda-cloud": {},
  "kernelspec": {
   "display_name": "Python 3",
   "language": "python",
   "name": "python3"
  },
  "language_info": {
   "codemirror_mode": {
    "name": "ipython",
    "version": 3
   },
   "file_extension": ".py",
   "mimetype": "text/x-python",
   "name": "python",
   "nbconvert_exporter": "python",
   "pygments_lexer": "ipython3",
   "version": "3.5.2"
  },
  "widgets": {
   "state": {},
   "version": "1.1.2"
  }
 },
 "nbformat": 4,
 "nbformat_minor": 0
}
